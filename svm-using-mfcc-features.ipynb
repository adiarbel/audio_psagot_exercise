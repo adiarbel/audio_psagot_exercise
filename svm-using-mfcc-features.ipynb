{
 "cells": [
  {
   "cell_type": "markdown",
   "metadata": {
    "_cell_guid": "cfdf5261-0d8e-4836-bb7e-8e9d71b17a26",
    "_uuid": "51684b311cc89e52bf813d48bee2ea9977f917e6"
   },
   "source": [
    "# Problem Statement \n",
    "\n",
    "Build a general-purpose automatic audio tagging system using a dataset of audio files covering a wide range of real-world environments. Sounds in the dataset include things like musical instruments, human sounds, domestic sounds, and animals from Freesound’s library, annotated using a vocabulary of more than 40 labels from Google’s AudioSet ontology. \n",
    "\n",
    "- Here, we built an SVM classifier using MFCC features from the audio files.\n",
    "- PCA was also used for dimension reduction.\n",
    "- Actually, SVM achieved a pretty good classification accuracy."
   ]
  },
  {
   "cell_type": "markdown",
   "metadata": {},
   "source": [
    "# Patbas"
   ]
  },
  {
   "cell_type": "markdown",
   "metadata": {
    "_cell_guid": "d8f5e0d8-e998-4145-b5c3-a16f09020627",
    "_uuid": "87310fe6b6fbee4f8cf1ad06104541c55bc5e0a8"
   },
   "source": [
    "## Data preprocessing ##"
   ]
  },
  {
   "cell_type": "code",
   "execution_count": null,
   "metadata": {
    "_cell_guid": "dd5815f4-36db-4a1a-9b25-90c5ef7bede3",
    "_uuid": "2a4eee0fbac8bd185c4b4d0dc894c56ae12e7c14"
   },
   "outputs": [],
   "source": [
    "import numpy as np\n",
    "import pandas as pd\n",
    "\n",
    "import os\n",
    "import librosa\n",
    "from glob import glob\n",
    "\n",
    "import scipy\n",
    "from scipy.stats import skew\n",
    "from tqdm import tqdm, tqdm_pandas\n",
    "\n",
    "tqdm.pandas()\n",
    "\n",
    "from sklearn.model_selection import GridSearchCV\n",
    "from sklearn.model_selection import train_test_split\n",
    "from sklearn.metrics import accuracy_score\n",
    "from sklearn.preprocessing import StandardScaler\n",
    "from sklearn.decomposition import PCA, KernelPCA\n",
    "import torchaudio\n",
    "from sklearn.svm import SVC"
   ]
  },
  {
   "cell_type": "markdown",
   "metadata": {},
   "source": [
    "### Read train and test dataframe"
   ]
  },
  {
   "cell_type": "code",
   "execution_count": null,
   "metadata": {},
   "outputs": [],
   "source": [
    "train_df = pd.read_csv('./full_dataset/train_filtered.csv')\n",
    "test_df = pd.read_csv('./full_dataset/test_filtered_public.csv')\n",
    "# test_df = pd.read_csv('./full_dataset/test_filtered_private.csv') \n"
   ]
  },
  {
   "cell_type": "markdown",
   "metadata": {
    "execution": {
     "iopub.execute_input": "2024-09-11T17:00:19.502177Z",
     "iopub.status.busy": "2024-09-11T17:00:19.501804Z",
     "iopub.status.idle": "2024-09-11T17:00:19.504866Z",
     "shell.execute_reply": "2024-09-11T17:00:19.504447Z",
     "shell.execute_reply.started": "2024-09-11T17:00:19.502156Z"
    }
   },
   "source": [
    "### Sort out your data and labels"
   ]
  },
  {
   "cell_type": "code",
   "execution_count": null,
   "metadata": {
    "_cell_guid": "5fba92a1-1288-42ac-9c6e-39180c58c3e8",
    "_uuid": "d88c4b81919ca194041ce32277170a962e9af015"
   },
   "outputs": [],
   "source": [
    "# Load data\n",
    "\n",
    "audio_train_files = train_df['fname'].tolist()\n",
    "audio_test_files = test_df['fname'].tolist()"
   ]
  },
  {
   "cell_type": "code",
   "execution_count": null,
   "metadata": {
    "_cell_guid": "b7bb62ec-5cef-47ab-bd14-a29237f81d2e",
    "_uuid": "d63822023d6f11917946ddcbd1f19cb9719dc7ad"
   },
   "outputs": [],
   "source": [
    "# Converts list of the top-k class predictions to top-k corresponding labels\n",
    "def convert_to_labels(preds, index_to_class, k=3):\n",
    "    ans = []\n",
    "    ids = []\n",
    "    for p in preds:\n",
    "        idx = np.argsort(p)[::-1]\n",
    "        ids.append([i for i in idx[:k]])\n",
    "        ans.append(' '.join([index_to_class[i] for i in idx[:k]]))\n",
    "\n",
    "    return ans, ids"
   ]
  },
  {
   "cell_type": "markdown",
   "metadata": {},
   "source": [
    "### Get Features"
   ]
  },
  {
   "cell_type": "code",
   "execution_count": null,
   "metadata": {
    "_cell_guid": "9230b979-dd71-4852-842e-f3f7eb2b328b",
    "_uuid": "92ceb1641f2f3bd8248f7daf547baef445b3543b"
   },
   "outputs": [],
   "source": [
    "# Function from EDA kernel: https://www.kaggle.com/codename007/a-very-extensive-freesound-exploratory-analysis\n",
    "SAMPLE_RATE = 16000\n",
    "\n",
    "def clean_filename(fname, string):   \n",
    "    file_name = fname.split('/')[1]\n",
    "    if file_name[:2] == '__':        \n",
    "        file_name = string + file_name\n",
    "    return file_name\n",
    "\n",
    "# Generate mfcc features with mean and standard deviation\n",
    "def get_features(name, path):\n",
    "    data, _ = librosa.core.load(path + name, sr = SAMPLE_RATE)\n",
    "    try:\n",
    "        ft1 = librosa.feature.mfcc(y=data, sr = SAMPLE_RATE, n_mfcc=30)\n",
    "        # ft2 = ...\n",
    "        ft1_trunc = np.hstack((np.mean(ft1, axis=1), np.std(ft1, axis=1), skew(ft1, axis = 1), np.max(ft1, axis = 1), np.median(ft1, axis = 1), np.min(ft1, axis = 1)))\n",
    "        # ft2_trunc = ...\n",
    "        # return pd.Series(np.hstack((ft1_trunc, ft2_trunc, ...)))\n",
    "    except Exception as e:\n",
    "        pass\n",
    "        # Add handle for the case of failed extraction"
   ]
  },
  {
   "cell_type": "code",
   "execution_count": null,
   "metadata": {
    "_cell_guid": "b60ddc34-1685-488e-b6d0-65b68c918391",
    "_uuid": "f6a6ee21d1a6c6f05c85cbf3cc507f9ca0b703e4"
   },
   "outputs": [],
   "source": [
    "# Prepare data\n",
    "\n",
    "train_data = pd.DataFrame()\n",
    "train_data['fname'] = train_df['fname']\n",
    "test_data = pd.DataFrame()\n",
    "test_data['fname'] = audio_test_files\n",
    "\n",
    "train_data = train_data['fname'].progress_apply(get_features, path='full_dataset/audio_train/')\n",
    "print('done loading train mfcc')\n",
    "test_data = test_data['fname'].progress_apply(get_features, path='full_dataset/audio_test/')\n",
    "print('done loading test mfcc')\n",
    "\n",
    "train_data['fname'] = train_df['fname']\n",
    "test_data['fname'] = audio_test_files\n",
    "\n",
    "train_data['label'] = train_df['label']\n",
    "test_data['label'] = np.zeros((len(audio_test_files)))"
   ]
  },
  {
   "cell_type": "markdown",
   "metadata": {},
   "source": [
    "### Convert labels to numbers"
   ]
  },
  {
   "cell_type": "code",
   "execution_count": null,
   "metadata": {
    "_cell_guid": "cd4f7b80-9e9c-4934-9261-b53b83b6b1f1",
    "_uuid": "70f97a79c3015700d69f9b198efa26ebfc401bba"
   },
   "outputs": [],
   "source": [
    "# Functions from Random Foresth using MFCC ttps://www.kaggle.com/amlanpraharaj/random-forest-using-mfcc-features\n",
    "# Construct features set\n",
    "X = train_data.drop(['label', 'fname'], axis=1)\n",
    "feature_names = list(X.columns)\n",
    "X = X.values\n",
    "labels = np.sort(np.unique(train_data.label.values))\n",
    "num_class = len(labels)\n",
    "class_to_index = {}\n",
    "index_to_class = {}\n",
    "for i, c in enumerate(labels):\n",
    "    class_to_index[c] = i\n",
    "    index_to_class[i] = c\n",
    "y = np.array([class_to_index[x] for x in train_data.label.values])"
   ]
  },
  {
   "cell_type": "code",
   "execution_count": null,
   "metadata": {
    "_cell_guid": "d17e50f9-6fc3-4c71-89a5-2d1175454631",
    "_uuid": "554c5f50fbf3e58d58705e2f80053faf682f7db4"
   },
   "outputs": [],
   "source": [
    "X_test = test_data.drop(['label', 'fname'], axis=1)\n",
    "X_test = X_test.values"
   ]
  },
  {
   "cell_type": "markdown",
   "metadata": {},
   "source": [
    "### Features post-process - scaling + PCA"
   ]
  },
  {
   "cell_type": "code",
   "execution_count": null,
   "metadata": {
    "_cell_guid": "5031c61a-57f7-43d2-a71e-0a96a99a3111",
    "_uuid": "433867b877581dc1701aacc7bfd1dc15d3d04ad2"
   },
   "outputs": [],
   "source": [
    "# Apply scaling for PCA\n",
    "scaler = StandardScaler() \n",
    "# ..."
   ]
  },
  {
   "cell_type": "code",
   "execution_count": null,
   "metadata": {
    "_cell_guid": "45a2ba1c-d7cf-4fdb-8768-3518ca1ca7fd",
    "_uuid": "88398b59ddb71221412226e63aad4ec35d331af2"
   },
   "outputs": [],
   "source": [
    "# Apply PCA for dimension reduction\n",
    "pca = PCA(n_components=65).fit(X_scaled)\n"
   ]
  },
  {
   "cell_type": "code",
   "execution_count": null,
   "metadata": {
    "_cell_guid": "026777a8-bfe7-47f8-821f-20427bedabe7",
    "_uuid": "b50dbbb7920621b8a75768cd09f255440b9de189"
   },
   "outputs": [],
   "source": [
    "# Fit an SVM model\n",
    "\n",
    "# X_train, X_val, y_train, y_val = train_test_split(X_pca, y, test_size = 0.2, random_state = 42, shuffle = True)\n",
    "\n",
    "# clf = SVC(kernel = 'rbf', probability=True)\n",
    "\n"
   ]
  },
  {
   "cell_type": "markdown",
   "metadata": {},
   "source": [
    "### Searching for optimal hyper-params"
   ]
  },
  {
   "cell_type": "code",
   "execution_count": null,
   "metadata": {
    "_cell_guid": "645770d4-0fbb-4bc3-acc2-52f6458bccde",
    "_uuid": "9153aa7eedbc5ccb938f1681f57eb5b70a5ab9fc"
   },
   "outputs": [],
   "source": [
    "# Define the paramter grid for C from 0.001 to 10, gamma from 0.001 to 10\n",
    "C_grid = [...]\n",
    "gamma_grid = [...]\n",
    "param_grid = {'C': C_grid, 'gamma' : gamma_grid}\n",
    "\n",
    "grid = GridSearchCV(...)\n",
    "# grid.fit(X_train, y_train)\n",
    "\n",
    "# Find the best model\n",
    "print(grid.best_score_)\n",
    "\n",
    "print(grid.best_params_)\n",
    "\n",
    "print(grid.best_estimator_)"
   ]
  },
  {
   "cell_type": "code",
   "execution_count": null,
   "metadata": {
    "_cell_guid": "4905392d-e387-4605-85b2-80977df4dade",
    "_uuid": "ce5f72cdc585dea4bb49dbb850f365b5bf1d50b8"
   },
   "outputs": [],
   "source": [
    "# Optimal model\n",
    "clf = SVC(...)\n",
    "\n",
    "# clf.fit(X_train, y_train)\n",
    "\n",
    "# print(accuracy_score(clf.predict(X_val), y_val))"
   ]
  },
  {
   "cell_type": "code",
   "execution_count": null,
   "metadata": {
    "_cell_guid": "bcd3a3db-6f02-44c9-ac64-ac5867bd0b1c",
    "_uuid": "6b5e028fab7e4ac7e4f10e6b40fa28bc892a815c"
   },
   "outputs": [],
   "source": [
    "# Fit the entire training sets\n",
    "# clf.fit(X_pca, y)\n",
    "# str_preds, _ = convert_to_labels(clf.predict_proba(X_test_pca), i2c, k=1)\n",
    "\n"
   ]
  },
  {
   "cell_type": "markdown",
   "metadata": {},
   "source": [
    "## Visualizations"
   ]
  },
  {
   "cell_type": "markdown",
   "metadata": {
    "execution": {
     "iopub.execute_input": "2024-09-11T17:17:24.538284Z",
     "iopub.status.busy": "2024-09-11T17:17:24.537946Z",
     "iopub.status.idle": "2024-09-11T17:17:24.540746Z",
     "shell.execute_reply": "2024-09-11T17:17:24.540315Z",
     "shell.execute_reply.started": "2024-09-11T17:17:24.538263Z"
    }
   },
   "source": [
    "## Visualization of classification results"
   ]
  },
  {
   "cell_type": "code",
   "execution_count": null,
   "metadata": {
    "_cell_guid": "c2efdd7f-6fc6-47d4-a113-56e50634891b",
    "_uuid": "a92500ad028e500cdaafdc167b32156e76c2567a"
   },
   "outputs": [],
   "source": [
    "import holoviews as hv\n",
    "from holoviews import dim, opts\n",
    "import pandas as pd\n",
    "from bokeh.plotting import show\n",
    "import bokeh.io\n",
    "from sklearn.manifold import TSNE\n",
    "\n",
    "bokeh.io.output_notebook()\n",
    "hv.extension('bokeh')\n",
    "hv.renderer('bokeh').theme = 'dark_minimal'\n",
    "pd.options.plotting.backend = \"holoviews\""
   ]
  }
 ],
 "metadata": {
  "kernelspec": {
   "display_name": "Python 3 (ipykernel)",
   "language": "python",
   "name": "python3"
  },
  "language_info": {
   "codemirror_mode": {
    "name": "ipython",
    "version": 3
   },
   "file_extension": ".py",
   "mimetype": "text/x-python",
   "name": "python",
   "nbconvert_exporter": "python",
   "pygments_lexer": "ipython3",
   "version": "3.10.12"
  }
 },
 "nbformat": 4,
 "nbformat_minor": 4
}
