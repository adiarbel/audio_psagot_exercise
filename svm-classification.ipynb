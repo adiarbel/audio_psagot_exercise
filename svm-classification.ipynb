{
 "cells": [
  {
   "cell_type": "markdown",
   "id": "5c817cec-5948-4d8b-90fc-19b15a248a95",
   "metadata": {
    "execution": {
     "iopub.execute_input": "2024-09-15T11:28:06.571964Z",
     "iopub.status.busy": "2024-09-15T11:28:06.571649Z",
     "iopub.status.idle": "2024-09-15T11:28:06.574298Z",
     "shell.execute_reply": "2024-09-15T11:28:06.573933Z",
     "shell.execute_reply.started": "2024-09-15T11:28:06.571944Z"
    }
   },
   "source": [
    "# Imports #"
   ]
  },
  {
   "cell_type": "code",
   "execution_count": 2,
   "id": "9b58f091-1a6a-490f-bd95-a7480c69f866",
   "metadata": {
    "execution": {
     "iopub.execute_input": "2024-09-15T11:44:27.764988Z",
     "iopub.status.busy": "2024-09-15T11:44:27.764670Z",
     "iopub.status.idle": "2024-09-15T11:44:27.768485Z",
     "shell.execute_reply": "2024-09-15T11:44:27.768064Z",
     "shell.execute_reply.started": "2024-09-15T11:44:27.764971Z"
    }
   },
   "outputs": [],
   "source": [
    "from helpers import *\n",
    "import numpy as np\n",
    "import pandas as pd\n",
    "\n",
    "import os\n",
    "import librosa\n",
    "from glob import glob\n",
    "\n",
    "import scipy\n",
    "from scipy.stats import skew\n",
    "from tqdm import tqdm, tqdm_pandas\n",
    "\n",
    "tqdm.pandas()\n",
    "\n",
    "from sklearn.model_selection import GridSearchCV\n",
    "from sklearn.model_selection import train_test_split\n",
    "from sklearn.metrics import accuracy_score\n",
    "from sklearn.preprocessing import StandardScaler\n",
    "from sklearn.decomposition import PCA, KernelPCA\n",
    "import torchaudio\n",
    "from sklearn.svm import SVC"
   ]
  },
  {
   "cell_type": "markdown",
   "id": "dfe1e8d2-fd58-45ca-ac2a-9d210f4fa54e",
   "metadata": {
    "execution": {
     "iopub.execute_input": "2024-09-15T11:29:42.024498Z",
     "iopub.status.busy": "2024-09-15T11:29:42.024026Z",
     "iopub.status.idle": "2024-09-15T11:29:42.027072Z",
     "shell.execute_reply": "2024-09-15T11:29:42.026600Z",
     "shell.execute_reply.started": "2024-09-15T11:29:42.024474Z"
    }
   },
   "source": [
    "# TODO (GAL) - Problem Statement #\n",
    "\n",
    "- The dataset contains sounds of musical instruments\n",
    " - build an SVM classifier using MFCC features from the audio files."
   ]
  },
  {
   "cell_type": "markdown",
   "id": "24e903fb-604e-43e8-88b5-46351e59d7f5",
   "metadata": {},
   "source": [
    "# Load train and test data #\n"
   ]
  },
  {
   "cell_type": "code",
   "execution_count": 3,
   "id": "900cde8a-04af-4d18-9243-16c1e8db702a",
   "metadata": {
    "execution": {
     "iopub.execute_input": "2024-09-15T11:45:56.142885Z",
     "iopub.status.busy": "2024-09-15T11:45:56.142557Z",
     "iopub.status.idle": "2024-09-15T11:45:56.178349Z",
     "shell.execute_reply": "2024-09-15T11:45:56.177837Z",
     "shell.execute_reply.started": "2024-09-15T11:45:56.142866Z"
    }
   },
   "outputs": [],
   "source": [
    "train_df = pd.read_csv('../feature_engineering_Adi/full_dataset/train_filtered.csv') # todo (GAL) - copy files\n",
    "test_df = pd.read_csv('../feature_engineering_Adi/full_dataset/test_filtered_public.csv') # todo (GAL) - copy files\n",
    "\n",
    "audio_train_files = train_df['fname'].tolist()\n",
    "audio_test_files = test_df['fname'].tolist()"
   ]
  },
  {
   "cell_type": "code",
   "execution_count": 4,
   "id": "f2294128-f872-4ca8-8b45-575eb3f8ecb0",
   "metadata": {
    "execution": {
     "iopub.execute_input": "2024-09-15T11:45:58.587363Z",
     "iopub.status.busy": "2024-09-15T11:45:58.587049Z",
     "iopub.status.idle": "2024-09-15T11:45:58.589781Z",
     "shell.execute_reply": "2024-09-15T11:45:58.589335Z",
     "shell.execute_reply.started": "2024-09-15T11:45:58.587344Z"
    }
   },
   "outputs": [],
   "source": [
    "SAMPLE_RATE = 16000"
   ]
  },
  {
   "cell_type": "markdown",
   "id": "ad587f06-eab7-4c13-bcd9-1923549909c5",
   "metadata": {
    "execution": {
     "iopub.execute_input": "2024-09-15T11:45:58.590775Z",
     "iopub.status.busy": "2024-09-15T11:45:58.590527Z",
     "iopub.status.idle": "2024-09-15T11:45:58.605795Z",
     "shell.execute_reply": "2024-09-15T11:45:58.605385Z",
     "shell.execute_reply.started": "2024-09-15T11:45:58.590759Z"
    }
   },
   "source": [
    "# TODO -  Extract MFCC features :) #\n"
   ]
  },
  {
   "cell_type": "code",
   "execution_count": null,
   "id": "7ad16ae1-4a2a-4c42-b14e-d444dc9ebb79",
   "metadata": {},
   "outputs": [],
   "source": [
    "# Generate mfcc features with mean and standard deviation\n",
    "def get_features(name, path):\n",
    "    data, _ = librosa.core.load(path + name, sr = SAMPLE_RATE)\n",
    "    try:\n",
    "        ft1 = librosa.feature.mfcc(y=data, sr = SAMPLE_RATE, n_mfcc=30)\n",
    "        ft1_trunc = np.hstack((np.mean(ft1, axis=1), np.std(ft1, axis=1), skew(ft1, axis = 1), np.max(ft1, axis = 1), np.median(ft1, axis = 1), np.min(ft1, axis = 1)))\n",
    "        \n",
    "        # TODO: Extract featurs of your choice\n",
    "        # ft2 = ...\n",
    "        # ft2_trunc = ...\n",
    "    \n",
    "        # return pd.Series(np.hstack((ft1_trunc, ft2_trunc, ...)))\n",
    "    except Exception as e:\n",
    "        pass\n",
    "        # Add handle for the case of failed extraction"
   ]
  },
  {
   "cell_type": "markdown",
   "id": "946bcb5f-08f9-4734-b6d4-83560fe386f0",
   "metadata": {},
   "source": [
    "# Data pre-proceesing #"
   ]
  },
  {
   "cell_type": "code",
   "execution_count": null,
   "id": "9fbeb2bc-6625-4ff5-af10-cf02243c6fa3",
   "metadata": {},
   "outputs": [],
   "source": [
    "# Prepare data\n",
    "\n",
    "train_data = pd.DataFrame()\n",
    "train_data['fname'] = train_df['fname']\n",
    "test_data = pd.DataFrame()\n",
    "test_data['fname'] = audio_test_files\n",
    "\n",
    "train_data = train_data['fname'].progress_apply(get_features, path='full_dataset/audio_train/')\n",
    "print('done loading train mfcc')\n",
    "test_data = test_data['fname'].progress_apply(get_features, path='full_dataset/audio_test/')\n",
    "print('done loading test mfcc')\n",
    "\n",
    "train_data['fname'] = train_df['fname']\n",
    "test_data['fname'] = audio_test_files\n",
    "\n",
    "train_data['label'] = train_df['label']\n",
    "test_data['label'] = np.zeros((len(audio_test_files)))"
   ]
  },
  {
   "cell_type": "code",
   "execution_count": null,
   "id": "38d6111c-3930-4962-8ad1-f8d5ef894da7",
   "metadata": {},
   "outputs": [],
   "source": [
    "X = train_data.drop(['label', 'fname'], axis=1)\n",
    "feature_names = list(X.columns)\n",
    "X = X.values\n",
    "labels = np.sort(np.unique(train_data.label.values))\n",
    "num_class = len(labels)\n",
    "class_to_index = {}\n",
    "index_to_class = {}\n",
    "for i, c in enumerate(labels):\n",
    "    class_to_index[c] = i\n",
    "    index_to_class[i] = c\n",
    "y = np.array([class_to_index[x] for x in train_data.label.values])"
   ]
  },
  {
   "cell_type": "code",
   "execution_count": null,
   "id": "01dd5c6d-b245-47fb-ad74-233d1c224345",
   "metadata": {},
   "outputs": [],
   "source": [
    "X_test = test_data.drop(['label', 'fname'], axis=1)\n",
    "X_test = X_test.values"
   ]
  },
  {
   "cell_type": "markdown",
   "id": "40fcec45-6822-4bec-9a56-2841a6679c52",
   "metadata": {
    "execution": {
     "iopub.execute_input": "2024-09-15T11:51:45.267263Z",
     "iopub.status.busy": "2024-09-15T11:51:45.266935Z",
     "iopub.status.idle": "2024-09-15T11:51:45.269557Z",
     "shell.execute_reply": "2024-09-15T11:51:45.269150Z",
     "shell.execute_reply.started": "2024-09-15T11:51:45.267243Z"
    }
   },
   "source": [
    "# TODO: Features post-process - scaling + PCA #\n",
    "- Take a look of the extracted features.\n",
    "- Try to apply PCA and observe strong featues.\n",
    "- Does all the features you extracted share the same scale? Try to use a scaler to adjust extracted featurs"
   ]
  },
  {
   "cell_type": "code",
   "execution_count": 7,
   "id": "397fda81-4b58-454b-b4c8-0f035aaccc60",
   "metadata": {
    "execution": {
     "iopub.execute_input": "2024-09-15T11:55:52.534997Z",
     "iopub.status.busy": "2024-09-15T11:55:52.534671Z",
     "iopub.status.idle": "2024-09-15T11:55:52.537358Z",
     "shell.execute_reply": "2024-09-15T11:55:52.536947Z",
     "shell.execute_reply.started": "2024-09-15T11:55:52.534978Z"
    }
   },
   "outputs": [],
   "source": [
    "# TODO: Apply scaling for PCA\n",
    "scaler = StandardScaler() \n",
    "# ..."
   ]
  },
  {
   "cell_type": "code",
   "execution_count": 8,
   "id": "cec35acc-a44c-494b-86eb-5eb82021b808",
   "metadata": {
    "execution": {
     "iopub.execute_input": "2024-09-15T11:56:00.125837Z",
     "iopub.status.busy": "2024-09-15T11:56:00.125596Z",
     "iopub.status.idle": "2024-09-15T11:56:00.238198Z",
     "shell.execute_reply": "2024-09-15T11:56:00.237647Z",
     "shell.execute_reply.started": "2024-09-15T11:56:00.125820Z"
    }
   },
   "outputs": [
    {
     "ename": "NameError",
     "evalue": "name 'X_scaled' is not defined",
     "output_type": "error",
     "traceback": [
      "\u001b[0;31m---------------------------------------------------------------------------\u001b[0m",
      "\u001b[0;31mNameError\u001b[0m                                 Traceback (most recent call last)",
      "Cell \u001b[0;32mIn[8], line 2\u001b[0m\n\u001b[1;32m      1\u001b[0m \u001b[38;5;66;03m# Apply PCA for dimension reduction\u001b[39;00m\n\u001b[0;32m----> 2\u001b[0m pca \u001b[38;5;241m=\u001b[39m PCA(n_components\u001b[38;5;241m=\u001b[39m\u001b[38;5;241m65\u001b[39m)\u001b[38;5;241m.\u001b[39mfit(\u001b[43mX_scaled\u001b[49m)\n",
      "\u001b[0;31mNameError\u001b[0m: name 'X_scaled' is not defined"
     ]
    }
   ],
   "source": [
    "# Apply PCA for dimension reduction\n",
    "pca = PCA(n_components=65).fit(X_scaled)\n"
   ]
  },
  {
   "cell_type": "markdown",
   "id": "17fbb5b7-5de6-4218-89f5-85ab374dfb51",
   "metadata": {},
   "source": [
    "# TODO: Features post-process - scaling + PCA #\n",
    "- Use strongest 65 features and train a SVM classifier\n",
    "- Try to imporve performance searching for optimal hyper-params"
   ]
  },
  {
   "cell_type": "code",
   "execution_count": 11,
   "id": "66e543fc-4eb9-4956-8422-31e74445467c",
   "metadata": {
    "execution": {
     "iopub.execute_input": "2024-09-15T12:06:34.481933Z",
     "iopub.status.busy": "2024-09-15T12:06:34.481617Z",
     "iopub.status.idle": "2024-09-15T12:06:34.496116Z",
     "shell.execute_reply": "2024-09-15T12:06:34.495620Z",
     "shell.execute_reply.started": "2024-09-15T12:06:34.481905Z"
    }
   },
   "outputs": [
    {
     "ename": "NameError",
     "evalue": "name 'X_scaled' is not defined",
     "output_type": "error",
     "traceback": [
      "\u001b[0;31m---------------------------------------------------------------------------\u001b[0m",
      "\u001b[0;31mNameError\u001b[0m                                 Traceback (most recent call last)",
      "Cell \u001b[0;32mIn[11], line 2\u001b[0m\n\u001b[1;32m      1\u001b[0m \u001b[38;5;66;03m# Apply PCA for dimension reduction\u001b[39;00m\n\u001b[0;32m----> 2\u001b[0m pca \u001b[38;5;241m=\u001b[39m PCA(n_components\u001b[38;5;241m=\u001b[39m\u001b[38;5;241m65\u001b[39m)\u001b[38;5;241m.\u001b[39mfit(\u001b[43mX_scaled\u001b[49m)\n\u001b[1;32m      3\u001b[0m \u001b[38;5;66;03m# TODO: apply test data transformation\u001b[39;00m\n",
      "\u001b[0;31mNameError\u001b[0m: name 'X_scaled' is not defined"
     ]
    }
   ],
   "source": [
    "# Apply PCA for dimension reduction\n",
    "pca = PCA(n_components=65).fit(X_scaled)\n",
    "# TODO: apply test data transformation"
   ]
  },
  {
   "cell_type": "markdown",
   "id": "a683a8fe-58a5-44a3-a91f-f1be6046a258",
   "metadata": {},
   "source": [
    "Split train data for [train, val] for hyper params tuning"
   ]
  },
  {
   "cell_type": "code",
   "execution_count": null,
   "id": "6344ddbf-c718-4a56-8b59-b9b40444a4f1",
   "metadata": {
    "jupyter": {
     "source_hidden": true
    }
   },
   "outputs": [],
   "source": [
    "# X_train, X_val, y_train, y_val = train_test_split(X_pca, y, test_size = 0.2, random_state = 42, shuffle = True)"
   ]
  },
  {
   "cell_type": "code",
   "execution_count": 13,
   "id": "384bf36f-54ab-4097-b340-1b06da17c0bc",
   "metadata": {
    "execution": {
     "iopub.execute_input": "2024-09-15T12:10:24.597616Z",
     "iopub.status.busy": "2024-09-15T12:10:24.597307Z",
     "iopub.status.idle": "2024-09-15T12:10:24.599861Z",
     "shell.execute_reply": "2024-09-15T12:10:24.599471Z",
     "shell.execute_reply.started": "2024-09-15T12:10:24.597598Z"
    }
   },
   "outputs": [],
   "source": [
    "# TODO: Fit an SVM model\n",
    "\n",
    "# clf = SVC(kernel = 'rbf', probability=True)\n",
    "# clf.fit(X_train, y_train)\n",
    "\n",
    "# print(accuracy_score(clf.predict(X_val), y_val))"
   ]
  },
  {
   "cell_type": "markdown",
   "id": "2ee32234-ada6-4ae9-948a-94c120279f5f",
   "metadata": {},
   "source": [
    "## Search for optimal hyper-params using grid-search"
   ]
  },
  {
   "cell_type": "code",
   "execution_count": 12,
   "id": "854b7094-f52f-4d44-b35e-3aa5f97ec330",
   "metadata": {
    "execution": {
     "iopub.execute_input": "2024-09-15T12:07:47.106504Z",
     "iopub.status.busy": "2024-09-15T12:07:47.106210Z",
     "iopub.status.idle": "2024-09-15T12:07:47.121802Z",
     "shell.execute_reply": "2024-09-15T12:07:47.121282Z",
     "shell.execute_reply.started": "2024-09-15T12:07:47.106484Z"
    }
   },
   "outputs": [
    {
     "ename": "TypeError",
     "evalue": "GridSearchCV.__init__() missing 1 required positional argument: 'param_grid'",
     "output_type": "error",
     "traceback": [
      "\u001b[0;31m---------------------------------------------------------------------------\u001b[0m",
      "\u001b[0;31mTypeError\u001b[0m                                 Traceback (most recent call last)",
      "Cell \u001b[0;32mIn[12], line 7\u001b[0m\n\u001b[1;32m      4\u001b[0m gamma_grid \u001b[38;5;241m=\u001b[39m [\u001b[38;5;241m.\u001b[39m\u001b[38;5;241m.\u001b[39m\u001b[38;5;241m.\u001b[39m]\n\u001b[1;32m      5\u001b[0m param_grid \u001b[38;5;241m=\u001b[39m {\u001b[38;5;124m'\u001b[39m\u001b[38;5;124mC\u001b[39m\u001b[38;5;124m'\u001b[39m: C_grid, \u001b[38;5;124m'\u001b[39m\u001b[38;5;124mgamma\u001b[39m\u001b[38;5;124m'\u001b[39m : gamma_grid}\n\u001b[0;32m----> 7\u001b[0m grid \u001b[38;5;241m=\u001b[39m \u001b[43mGridSearchCV\u001b[49m\u001b[43m(\u001b[49m\u001b[38;5;241;43m.\u001b[39;49m\u001b[38;5;241;43m.\u001b[39;49m\u001b[38;5;241;43m.\u001b[39;49m\u001b[43m)\u001b[49m\n\u001b[1;32m      8\u001b[0m \u001b[38;5;66;03m# grid.fit(X_train, y_train)\u001b[39;00m\n\u001b[1;32m      9\u001b[0m \n\u001b[1;32m     10\u001b[0m \u001b[38;5;66;03m# Find the best model\u001b[39;00m\n\u001b[1;32m     11\u001b[0m \u001b[38;5;28mprint\u001b[39m(grid\u001b[38;5;241m.\u001b[39mbest_score_)\n",
      "\u001b[0;31mTypeError\u001b[0m: GridSearchCV.__init__() missing 1 required positional argument: 'param_grid'"
     ]
    }
   ],
   "source": [
    "# Define the paramter grid for C from 0.001 to 10, gamma from 0.001 to 10\n",
    "#TODO\n",
    "C_grid = [...]\n",
    "gamma_grid = [...]\n",
    "param_grid = {'C': C_grid, 'gamma' : gamma_grid}\n",
    "\n",
    "grid = GridSearchCV(...)\n",
    "# grid.fit(X_train, y_train)\n",
    "\n",
    "# Find the best model\n",
    "print(grid.best_score_)\n",
    "\n",
    "print(grid.best_params_)\n",
    "\n",
    "print(grid.best_estimator_)"
   ]
  },
  {
   "cell_type": "code",
   "execution_count": null,
   "id": "c15628b6-8bb5-4bac-80ef-ab4519164d1d",
   "metadata": {},
   "outputs": [],
   "source": [
    "## Visualizations"
   ]
  },
  {
   "cell_type": "code",
   "execution_count": null,
   "id": "e0f46174-7598-45d3-95f5-cda42a8553be",
   "metadata": {},
   "outputs": [],
   "source": [
    "## Visualization of classification results"
   ]
  },
  {
   "cell_type": "code",
   "execution_count": null,
   "id": "ae7dbefb-55ba-4520-a0dd-328cc17ca929",
   "metadata": {},
   "outputs": [],
   "source": [
    "import holoviews as hv\n",
    "from holoviews import dim, opts\n",
    "import pandas as pd\n",
    "from bokeh.plotting import show\n",
    "import bokeh.io\n",
    "from sklearn.manifold import TSNE\n",
    "\n",
    "bokeh.io.output_notebook()\n",
    "hv.extension('bokeh')\n",
    "hv.renderer('bokeh').theme = 'dark_minimal'\n",
    "pd.options.plotting.backend = \"holoviews\""
   ]
  }
 ],
 "metadata": {
  "kernelspec": {
   "display_name": "Python 3 (ipykernel)",
   "language": "python",
   "name": "python3"
  },
  "language_info": {
   "codemirror_mode": {
    "name": "ipython",
    "version": 3
   },
   "file_extension": ".py",
   "mimetype": "text/x-python",
   "name": "python",
   "nbconvert_exporter": "python",
   "pygments_lexer": "ipython3",
   "version": "3.10.12"
  }
 },
 "nbformat": 4,
 "nbformat_minor": 5
}
