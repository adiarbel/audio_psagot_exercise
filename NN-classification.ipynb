{
 "cells": [
  {
   "cell_type": "code",
   "execution_count": 1,
   "id": "c42cd53c-74b4-4e09-9fdb-a866a371f3d8",
   "metadata": {
    "execution": {
     "iopub.execute_input": "2024-09-19T15:29:06.974667Z",
     "iopub.status.busy": "2024-09-19T15:29:06.974390Z",
     "iopub.status.idle": "2024-09-19T15:29:06.986440Z",
     "shell.execute_reply": "2024-09-19T15:29:06.985658Z",
     "shell.execute_reply.started": "2024-09-19T15:29:06.974651Z"
    }
   },
   "outputs": [],
   "source": [
    "%load_ext autoreload\n",
    "%autoreload 2"
   ]
  },
  {
   "cell_type": "markdown",
   "id": "c9e4b386-a89d-4eea-bef0-f723f3b7c173",
   "metadata": {},
   "source": [
    "# Imports"
   ]
  },
  {
   "cell_type": "code",
   "execution_count": 2,
   "id": "816550ef-9408-4c19-8948-1a2882b9dbff",
   "metadata": {
    "execution": {
     "iopub.execute_input": "2024-09-19T15:29:06.987022Z",
     "iopub.status.busy": "2024-09-19T15:29:06.986881Z",
     "iopub.status.idle": "2024-09-19T15:29:08.989604Z",
     "shell.execute_reply": "2024-09-19T15:29:08.989126Z",
     "shell.execute_reply.started": "2024-09-19T15:29:06.987009Z"
    }
   },
   "outputs": [],
   "source": [
    "import time\n",
    "import os\n",
    "import matplotlib.pyplot as plt\n",
    "import numpy as np\n",
    "import pandas as pd\n",
    "import scipy\n",
    "import torch\n",
    "import torch.nn.functional as F\n",
    "import torchaudio\n",
    "\n",
    "from model import *\n",
    "from sampler import *\n",
    "from helpers import *\n",
    "\n",
    "from IPython.display import Audio, display\n",
    "from python_speech_features import logfbank, mfcc\n",
    "from sklearn.manifold import TSNE\n",
    "from sklearn.preprocessing import StandardScaler\n",
    "from torch.utils.data import DataLoader, TensorDataset, random_split"
   ]
  },
  {
   "cell_type": "markdown",
   "id": "54cb3675-5770-45e7-8f6f-e0df1e99486f",
   "metadata": {},
   "source": [
    "# Load the dataset"
   ]
  },
  {
   "cell_type": "code",
   "execution_count": 3,
   "id": "00c8031e-5ea1-4d3e-ab02-93ddcd60b380",
   "metadata": {
    "execution": {
     "iopub.execute_input": "2024-09-19T15:29:08.990572Z",
     "iopub.status.busy": "2024-09-19T15:29:08.990281Z",
     "iopub.status.idle": "2024-09-19T15:29:09.013597Z",
     "shell.execute_reply": "2024-09-19T15:29:09.013223Z",
     "shell.execute_reply.started": "2024-09-19T15:29:08.990556Z"
    }
   },
   "outputs": [],
   "source": [
    "base_dir = '../feature_engineering_Adi/full_dataset'\n",
    "df = pd.read_csv(os.path.join(base_dir,'train_filtered.csv'))\n",
    "df.set_index(\"fname\", inplace=True, drop=True)\n",
    "df = df.drop(['manually_verified'],axis='columns')"
   ]
  },
  {
   "cell_type": "code",
   "execution_count": 4,
   "id": "cb675c11-27ab-4dde-b329-3aa5af042d67",
   "metadata": {
    "execution": {
     "iopub.execute_input": "2024-09-19T15:29:09.014370Z",
     "iopub.status.busy": "2024-09-19T15:29:09.014173Z",
     "iopub.status.idle": "2024-09-19T15:29:09.033642Z",
     "shell.execute_reply": "2024-09-19T15:29:09.033285Z",
     "shell.execute_reply.started": "2024-09-19T15:29:09.014356Z"
    }
   },
   "outputs": [
    {
     "data": {
      "text/plain": [
       "17"
      ]
     },
     "execution_count": 4,
     "metadata": {},
     "output_type": "execute_result"
    }
   ],
   "source": [
    "non_instrumental_classes = ['Telephone','Cowbell', 'Gong','Gunshot_or_gunfire']\n",
    "instrumental_classes_df = df[~df.label.isin(non_instrumental_classes)]\n",
    "\n",
    "instrumental_classes = list(set(instrumental_classes_df.label))\n",
    "instrumental_classes_labels_mapping = {c: i for i, c in enumerate(instrumental_classes)}\n",
    "instrumental_classes_df[\"label_id\"] = instrumental_classes_df.label.map(instrumental_classes_labels_mapping)\n",
    "len(instrumental_classes_labels_mapping)"
   ]
  },
  {
   "cell_type": "code",
   "execution_count": 5,
   "id": "d083dd15-4877-4a78-b190-ea51232a8654",
   "metadata": {
    "execution": {
     "iopub.execute_input": "2024-09-19T15:29:09.034370Z",
     "iopub.status.busy": "2024-09-19T15:29:09.034176Z",
     "iopub.status.idle": "2024-09-19T15:29:09.051931Z",
     "shell.execute_reply": "2024-09-19T15:29:09.051569Z",
     "shell.execute_reply.started": "2024-09-19T15:29:09.034356Z"
    }
   },
   "outputs": [],
   "source": [
    "test_df = pd.read_csv(os.path.join(base_dir,'test_filtered_public.csv'))\n",
    "test_df.set_index(\"fname\", inplace=True, drop=True)\n",
    "test_instrumental_classes_df = test_df[~test_df.label.isin(non_instrumental_classes)]\n",
    "test_instrumental_classes_df[\"label_id\"] = test_instrumental_classes_df.label.map(instrumental_classes_labels_mapping)"
   ]
  },
  {
   "cell_type": "code",
   "execution_count": 6,
   "id": "2504f792-1142-44f2-9a1f-d050db830eaf",
   "metadata": {
    "execution": {
     "iopub.execute_input": "2024-09-19T15:29:09.053449Z",
     "iopub.status.busy": "2024-09-19T15:29:09.053247Z",
     "iopub.status.idle": "2024-09-19T15:29:09.066726Z",
     "shell.execute_reply": "2024-09-19T15:29:09.066375Z",
     "shell.execute_reply.started": "2024-09-19T15:29:09.053434Z"
    }
   },
   "outputs": [],
   "source": [
    "# todo: maybe let them define some layers in the model?"
   ]
  },
  {
   "cell_type": "code",
   "execution_count": 7,
   "id": "b389fb27-f6ef-452a-b0b9-f8c792c38333",
   "metadata": {
    "execution": {
     "iopub.execute_input": "2024-09-19T15:29:09.067363Z",
     "iopub.status.busy": "2024-09-19T15:29:09.067218Z",
     "iopub.status.idle": "2024-09-19T15:29:09.386041Z",
     "shell.execute_reply": "2024-09-19T15:29:09.385606Z",
     "shell.execute_reply.started": "2024-09-19T15:29:09.067350Z"
    }
   },
   "outputs": [
    {
     "data": {
      "text/plain": [
       "ConvNet(\n",
       "  (conv_1): Conv2d(1, 16, kernel_size=(3, 3), stride=(1, 1), padding=(1, 1))\n",
       "  (conv_2): Conv2d(16, 32, kernel_size=(3, 3), stride=(1, 1), padding=(1, 1))\n",
       "  (conv_3): Conv2d(32, 64, kernel_size=(3, 3), stride=(1, 1), padding=(1, 1))\n",
       "  (max_pool): MaxPool2d(kernel_size=(2, 2), stride=(2, 2), padding=0, dilation=1, ceil_mode=False)\n",
       "  (linear_1): Linear(in_features=7936, out_features=256, bias=True)\n",
       "  (linear_out): Linear(in_features=256, out_features=17, bias=True)\n",
       ")"
      ]
     },
     "execution_count": 7,
     "metadata": {},
     "output_type": "execute_result"
    }
   ],
   "source": [
    "device = 'cuda' if torch.cuda.is_available() else 'cpu'\n",
    "model = ConvNet(num_classes = len(instrumental_classes_labels_mapping))\n",
    "model = model.to(device)\n",
    "model = model.eval()\n",
    "model"
   ]
  },
  {
   "cell_type": "code",
   "execution_count": 8,
   "id": "08a7fd7a-bc54-4f61-9b1d-19dccd9e5682",
   "metadata": {
    "execution": {
     "iopub.execute_input": "2024-09-19T15:29:09.386853Z",
     "iopub.status.busy": "2024-09-19T15:29:09.386636Z",
     "iopub.status.idle": "2024-09-19T15:29:31.609568Z",
     "shell.execute_reply": "2024-09-19T15:29:31.608960Z",
     "shell.execute_reply.started": "2024-09-19T15:29:09.386837Z"
    }
   },
   "outputs": [],
   "source": [
    "dataset = MFCCDataset(instrumental_classes_df)"
   ]
  },
  {
   "cell_type": "code",
   "execution_count": 9,
   "id": "1f5454ee-9cbe-4c71-bede-95f7beb2130d",
   "metadata": {
    "execution": {
     "iopub.execute_input": "2024-09-19T15:29:31.610612Z",
     "iopub.status.busy": "2024-09-19T15:29:31.610374Z",
     "iopub.status.idle": "2024-09-19T15:29:31.636894Z",
     "shell.execute_reply": "2024-09-19T15:29:31.636528Z",
     "shell.execute_reply.started": "2024-09-19T15:29:31.610594Z"
    }
   },
   "outputs": [
    {
     "data": {
      "text/html": [
       "<div>\n",
       "<style scoped>\n",
       "    .dataframe tbody tr th:only-of-type {\n",
       "        vertical-align: middle;\n",
       "    }\n",
       "\n",
       "    .dataframe tbody tr th {\n",
       "        vertical-align: top;\n",
       "    }\n",
       "\n",
       "    .dataframe thead th {\n",
       "        text-align: right;\n",
       "    }\n",
       "</style>\n",
       "<table border=\"1\" class=\"dataframe\">\n",
       "  <thead>\n",
       "    <tr style=\"text-align: right;\">\n",
       "      <th></th>\n",
       "      <th>label</th>\n",
       "      <th>label_id</th>\n",
       "      <th>duration</th>\n",
       "    </tr>\n",
       "    <tr>\n",
       "      <th>fname</th>\n",
       "      <th></th>\n",
       "      <th></th>\n",
       "      <th></th>\n",
       "    </tr>\n",
       "  </thead>\n",
       "  <tbody>\n",
       "    <tr>\n",
       "      <th>15f7e867.wav</th>\n",
       "      <td>Bass_drum</td>\n",
       "      <td>3</td>\n",
       "      <td>14112</td>\n",
       "    </tr>\n",
       "    <tr>\n",
       "      <th>820bcee9.wav</th>\n",
       "      <td>Bass_drum</td>\n",
       "      <td>3</td>\n",
       "      <td>14112</td>\n",
       "    </tr>\n",
       "    <tr>\n",
       "      <th>307b76ab.wav</th>\n",
       "      <td>Tambourine</td>\n",
       "      <td>13</td>\n",
       "      <td>14112</td>\n",
       "    </tr>\n",
       "    <tr>\n",
       "      <th>f093caf9.wav</th>\n",
       "      <td>Hi-hat</td>\n",
       "      <td>2</td>\n",
       "      <td>14112</td>\n",
       "    </tr>\n",
       "    <tr>\n",
       "      <th>2ed7a267.wav</th>\n",
       "      <td>Bass_drum</td>\n",
       "      <td>3</td>\n",
       "      <td>14112</td>\n",
       "    </tr>\n",
       "    <tr>\n",
       "      <th>...</th>\n",
       "      <td>...</td>\n",
       "      <td>...</td>\n",
       "      <td>...</td>\n",
       "    </tr>\n",
       "    <tr>\n",
       "      <th>1648effc.wav</th>\n",
       "      <td>Electric_piano</td>\n",
       "      <td>10</td>\n",
       "      <td>1206576</td>\n",
       "    </tr>\n",
       "    <tr>\n",
       "      <th>910dc153.wav</th>\n",
       "      <td>Electric_piano</td>\n",
       "      <td>10</td>\n",
       "      <td>1223334</td>\n",
       "    </tr>\n",
       "    <tr>\n",
       "      <th>7773d933.wav</th>\n",
       "      <td>Chime</td>\n",
       "      <td>6</td>\n",
       "      <td>1240092</td>\n",
       "    </tr>\n",
       "    <tr>\n",
       "      <th>3ac0c9ea.wav</th>\n",
       "      <td>Electric_piano</td>\n",
       "      <td>10</td>\n",
       "      <td>1281546</td>\n",
       "    </tr>\n",
       "    <tr>\n",
       "      <th>12a38093.wav</th>\n",
       "      <td>Electric_piano</td>\n",
       "      <td>10</td>\n",
       "      <td>1318590</td>\n",
       "    </tr>\n",
       "  </tbody>\n",
       "</table>\n",
       "<p>1887 rows × 3 columns</p>\n",
       "</div>"
      ],
      "text/plain": [
       "                       label  label_id  duration\n",
       "fname                                           \n",
       "15f7e867.wav       Bass_drum         3     14112\n",
       "820bcee9.wav       Bass_drum         3     14112\n",
       "307b76ab.wav      Tambourine        13     14112\n",
       "f093caf9.wav          Hi-hat         2     14112\n",
       "2ed7a267.wav       Bass_drum         3     14112\n",
       "...                      ...       ...       ...\n",
       "1648effc.wav  Electric_piano        10   1206576\n",
       "910dc153.wav  Electric_piano        10   1223334\n",
       "7773d933.wav           Chime         6   1240092\n",
       "3ac0c9ea.wav  Electric_piano        10   1281546\n",
       "12a38093.wav  Electric_piano        10   1318590\n",
       "\n",
       "[1887 rows x 3 columns]"
      ]
     },
     "execution_count": 9,
     "metadata": {},
     "output_type": "execute_result"
    }
   ],
   "source": [
    "instrumental_classes_df"
   ]
  },
  {
   "cell_type": "code",
   "execution_count": 10,
   "id": "abdf6651-544c-4d2b-8f75-be8312113293",
   "metadata": {
    "execution": {
     "iopub.execute_input": "2024-09-19T15:29:31.637626Z",
     "iopub.status.busy": "2024-09-19T15:29:31.637431Z",
     "iopub.status.idle": "2024-09-19T15:29:31.653506Z",
     "shell.execute_reply": "2024-09-19T15:29:31.653138Z",
     "shell.execute_reply.started": "2024-09-19T15:29:31.637611Z"
    }
   },
   "outputs": [],
   "source": [
    "batch_size = 4\n",
    "train_loader = DataLoader(dataset=dataset, batch_size=batch_size, shuffle=False, collate_fn=pad_batch)"
   ]
  },
  {
   "cell_type": "code",
   "execution_count": 11,
   "id": "c19a4d75-3cc2-4227-a937-0e5e7303da36",
   "metadata": {
    "execution": {
     "iopub.execute_input": "2024-09-19T15:29:31.654121Z",
     "iopub.status.busy": "2024-09-19T15:29:31.653980Z",
     "iopub.status.idle": "2024-09-19T15:29:31.668889Z",
     "shell.execute_reply": "2024-09-19T15:29:31.668525Z",
     "shell.execute_reply.started": "2024-09-19T15:29:31.654108Z"
    }
   },
   "outputs": [],
   "source": [
    "@torch.no_grad()\n",
    "def compute_accuracy(model, data_loader):\n",
    "    correct_pred, num_examples = 0, 0\n",
    "    for features, targets in data_loader:\n",
    "        features = features.to(device).float()\n",
    "        targets = targets.to(device)\n",
    "        logits, probas = model(features)\n",
    "        _, predicted_labels = torch.max(probas, 1)\n",
    "        num_examples += targets.size(0)\n",
    "        correct_pred += (predicted_labels == targets).sum()\n",
    "    return correct_pred.float()/num_examples * 100"
   ]
  },
  {
   "cell_type": "code",
   "execution_count": 12,
   "id": "d84343f9-ddce-4cf5-b2d8-fccea4357934",
   "metadata": {
    "execution": {
     "iopub.execute_input": "2024-09-19T15:29:31.669500Z",
     "iopub.status.busy": "2024-09-19T15:29:31.669358Z",
     "iopub.status.idle": "2024-09-19T15:55:57.088709Z",
     "shell.execute_reply": "2024-09-19T15:55:57.088107Z",
     "shell.execute_reply.started": "2024-09-19T15:29:31.669487Z"
    }
   },
   "outputs": [
    {
     "name": "stdout",
     "output_type": "stream",
     "text": [
      "Epoch: 1/10 | Batch 99/472 | Loss: 2.06790884912014\n",
      "Epoch: 1/10 | Batch 199/472 | Loss: 2.158555458635092\n",
      "Epoch: 1/10 | Batch 299/472 | Loss: 1.9153146077692509\n",
      "Epoch: 1/10 | Batch 399/472 | Loss: 1.469803657233715\n",
      "Epoch: 1/10 | Batch 471/472 | Loss: 1.066224380284548\n",
      "Time elapsed: 2.28 min\n",
      "Epoch: 2/10 | Batch 99/472 | Loss: 1.5047208038531243\n",
      "Epoch: 2/10 | Batch 199/472 | Loss: 1.0704256888901\n",
      "Epoch: 2/10 | Batch 299/472 | Loss: 0.883797531761229\n",
      "Epoch: 2/10 | Batch 399/472 | Loss: 0.6592212415579707\n",
      "Epoch: 2/10 | Batch 471/472 | Loss: 0.7122644456708804\n",
      "Time elapsed: 4.60 min\n",
      "Epoch: 3/10 | Batch 99/472 | Loss: 0.979869327424094\n",
      "Epoch: 3/10 | Batch 199/472 | Loss: 0.7181190539712042\n",
      "Epoch: 3/10 | Batch 299/472 | Loss: 0.6336059815308545\n",
      "Epoch: 3/10 | Batch 399/472 | Loss: 0.4925223557092249\n",
      "Epoch: 3/10 | Batch 471/472 | Loss: 0.43216737166017993\n",
      "Time elapsed: 7.14 min\n",
      "Epoch: 4/10 | Batch 99/472 | Loss: 0.5852364737913013\n",
      "Epoch: 4/10 | Batch 199/472 | Loss: 0.46324928989681213\n",
      "Epoch: 4/10 | Batch 299/472 | Loss: 0.3145719468367497\n",
      "Epoch: 4/10 | Batch 399/472 | Loss: 0.5339536166511243\n",
      "Epoch: 4/10 | Batch 471/472 | Loss: 0.5604229480400682\n",
      "Time elapsed: 9.67 min\n",
      "Epoch: 5/10 | Batch 99/472 | Loss: 0.4339405668736436\n",
      "Epoch: 5/10 | Batch 199/472 | Loss: 0.3682852240306966\n",
      "Epoch: 5/10 | Batch 299/472 | Loss: 0.3329706707074729\n",
      "Epoch: 5/10 | Batch 399/472 | Loss: 0.3108485863942769\n",
      "Epoch: 5/10 | Batch 471/472 | Loss: 0.3104045291136936\n",
      "Time elapsed: 12.12 min\n",
      "Epoch: 6/10 | Batch 99/472 | Loss: 0.26607414565514775\n",
      "Epoch: 6/10 | Batch 199/472 | Loss: 0.16657857000442042\n",
      "Epoch: 6/10 | Batch 299/472 | Loss: 0.3307288122162572\n",
      "Epoch: 6/10 | Batch 399/472 | Loss: 0.1510242533680139\n",
      "Epoch: 6/10 | Batch 471/472 | Loss: 0.2976671721941034\n",
      "Time elapsed: 14.57 min\n",
      "Epoch: 7/10 | Batch 99/472 | Loss: 0.2172728850709973\n",
      "Epoch: 7/10 | Batch 199/472 | Loss: 0.10905618203352446\n",
      "Epoch: 7/10 | Batch 299/472 | Loss: 0.07306660021102289\n",
      "Epoch: 7/10 | Batch 399/472 | Loss: 0.35070520826003077\n",
      "Epoch: 7/10 | Batch 471/472 | Loss: 0.4033108155698574\n",
      "Time elapsed: 17.19 min\n",
      "Epoch: 8/10 | Batch 99/472 | Loss: 0.1636738041996432\n",
      "Epoch: 8/10 | Batch 199/472 | Loss: 0.1339022089672096\n",
      "Epoch: 8/10 | Batch 299/472 | Loss: 0.10333465131945559\n",
      "Epoch: 8/10 | Batch 399/472 | Loss: 0.08514999113456724\n",
      "Epoch: 8/10 | Batch 471/472 | Loss: 0.20325745583915023\n",
      "Time elapsed: 19.51 min\n",
      "Epoch: 9/10 | Batch 99/472 | Loss: 0.13328866718627977\n",
      "Epoch: 9/10 | Batch 199/472 | Loss: 0.11584387633110936\n",
      "Epoch: 9/10 | Batch 299/472 | Loss: 0.06493193081874779\n",
      "Epoch: 9/10 | Batch 399/472 | Loss: 0.09861103187139733\n",
      "Epoch: 9/10 | Batch 471/472 | Loss: 0.24087659504459225\n",
      "Time elapsed: 21.82 min\n",
      "Epoch: 10/10 | Batch 99/472 | Loss: 0.11144849089963828\n",
      "Epoch: 10/10 | Batch 199/472 | Loss: 0.140989978514512\n",
      "Epoch: 10/10 | Batch 299/472 | Loss: 0.2372747853401961\n",
      "Epoch: 10/10 | Batch 399/472 | Loss: 0.10686191848816862\n",
      "Epoch: 10/10 | Batch 471/472 | Loss: 0.21964904278652966\n",
      "Time elapsed: 24.04 min\n",
      "training accuracy: 88.50%\n",
      "Total Training Time: 26.42 min\n"
     ]
    }
   ],
   "source": [
    "start_time = time.time()\n",
    "num_epochs = 10\n",
    "log_every = 100\n",
    "curr_loss=0\n",
    "loss_fn = torch.nn.CrossEntropyLoss()\n",
    "optimizer = torch.optim.Adam(model.parameters(), lr=0.0005, betas = (0.9,0.999), eps = 1e-8, weight_decay = 0)\n",
    "for epoch in range(num_epochs):\n",
    "    model.train()\n",
    "    for batch_idx, (features, targets) in enumerate(train_loader):\n",
    "        \n",
    "        features = features.to(device)\n",
    "        targets = targets.to(device)\n",
    "\n",
    "        ### FORWARD AND BACK PROP\n",
    "        logits, probas = model(features)\n",
    "        \n",
    "        loss = loss_fn(logits, targets)   \n",
    "        curr_loss += loss.item()\n",
    "        optimizer.zero_grad()\n",
    "        loss.backward()\n",
    "        \n",
    "        ### UPDATE MODEL PARAMETERS\n",
    "        optimizer.step()\n",
    "        \n",
    "        ### LOGGING\n",
    "        if batch_idx % log_every == log_every-1 or batch_idx == len(train_loader)-1:\n",
    "            curr_loss /= log_every\n",
    "            print(f'Epoch: {epoch+1}/{num_epochs} | Batch {batch_idx}/{len(train_loader)} | Loss: {curr_loss}')\n",
    "            curr_loss = 0\n",
    "\n",
    "    model.eval()\n",
    "\n",
    "    print('Time elapsed: %.2f min' % ((time.time() - start_time)/60))\n",
    "\n",
    "print('training accuracy: %.2f%%' % (compute_accuracy(model, train_loader)))\n",
    "\n",
    "print('Total Training Time: %.2f min' % ((time.time() - start_time)/60))"
   ]
  },
  {
   "cell_type": "code",
   "execution_count": 13,
   "id": "b1466d9b-4582-4b9f-814b-87c2129b1fd7",
   "metadata": {
    "execution": {
     "iopub.execute_input": "2024-09-19T15:55:57.089945Z",
     "iopub.status.busy": "2024-09-19T15:55:57.089491Z",
     "iopub.status.idle": "2024-09-19T15:55:57.123071Z",
     "shell.execute_reply": "2024-09-19T15:55:57.122670Z",
     "shell.execute_reply.started": "2024-09-19T15:55:57.089926Z"
    }
   },
   "outputs": [
    {
     "data": {
      "text/html": [
       "<div>\n",
       "<style scoped>\n",
       "    .dataframe tbody tr th:only-of-type {\n",
       "        vertical-align: middle;\n",
       "    }\n",
       "\n",
       "    .dataframe tbody tr th {\n",
       "        vertical-align: top;\n",
       "    }\n",
       "\n",
       "    .dataframe thead th {\n",
       "        text-align: right;\n",
       "    }\n",
       "</style>\n",
       "<table border=\"1\" class=\"dataframe\">\n",
       "  <thead>\n",
       "    <tr style=\"text-align: right;\">\n",
       "      <th></th>\n",
       "      <th>label</th>\n",
       "      <th>usage</th>\n",
       "      <th>label_id</th>\n",
       "    </tr>\n",
       "    <tr>\n",
       "      <th>fname</th>\n",
       "      <th></th>\n",
       "      <th></th>\n",
       "      <th></th>\n",
       "    </tr>\n",
       "  </thead>\n",
       "  <tbody>\n",
       "    <tr>\n",
       "      <th>00eac343.wav</th>\n",
       "      <td>Electric_piano</td>\n",
       "      <td>Public</td>\n",
       "      <td>10</td>\n",
       "    </tr>\n",
       "    <tr>\n",
       "      <th>047bf19c.wav</th>\n",
       "      <td>Flute</td>\n",
       "      <td>Public</td>\n",
       "      <td>14</td>\n",
       "    </tr>\n",
       "    <tr>\n",
       "      <th>05723b3a.wav</th>\n",
       "      <td>Cello</td>\n",
       "      <td>Public</td>\n",
       "      <td>12</td>\n",
       "    </tr>\n",
       "    <tr>\n",
       "      <th>0716b51d.wav</th>\n",
       "      <td>Double_bass</td>\n",
       "      <td>Public</td>\n",
       "      <td>9</td>\n",
       "    </tr>\n",
       "    <tr>\n",
       "      <th>097cdef5.wav</th>\n",
       "      <td>Violin_or_fiddle</td>\n",
       "      <td>Public</td>\n",
       "      <td>11</td>\n",
       "    </tr>\n",
       "    <tr>\n",
       "      <th>...</th>\n",
       "      <td>...</td>\n",
       "      <td>...</td>\n",
       "      <td>...</td>\n",
       "    </tr>\n",
       "    <tr>\n",
       "      <th>f5dd877a.wav</th>\n",
       "      <td>Acoustic_guitar</td>\n",
       "      <td>Public</td>\n",
       "      <td>5</td>\n",
       "    </tr>\n",
       "    <tr>\n",
       "      <th>fa45b631.wav</th>\n",
       "      <td>Oboe</td>\n",
       "      <td>Public</td>\n",
       "      <td>7</td>\n",
       "    </tr>\n",
       "    <tr>\n",
       "      <th>fb84a793.wav</th>\n",
       "      <td>Clarinet</td>\n",
       "      <td>Public</td>\n",
       "      <td>0</td>\n",
       "    </tr>\n",
       "    <tr>\n",
       "      <th>fbc83b12.wav</th>\n",
       "      <td>Saxophone</td>\n",
       "      <td>Public</td>\n",
       "      <td>1</td>\n",
       "    </tr>\n",
       "    <tr>\n",
       "      <th>ff5285a5.wav</th>\n",
       "      <td>Cello</td>\n",
       "      <td>Public</td>\n",
       "      <td>12</td>\n",
       "    </tr>\n",
       "  </tbody>\n",
       "</table>\n",
       "<p>155 rows × 3 columns</p>\n",
       "</div>"
      ],
      "text/plain": [
       "                         label   usage  label_id\n",
       "fname                                           \n",
       "00eac343.wav    Electric_piano  Public        10\n",
       "047bf19c.wav             Flute  Public        14\n",
       "05723b3a.wav             Cello  Public        12\n",
       "0716b51d.wav       Double_bass  Public         9\n",
       "097cdef5.wav  Violin_or_fiddle  Public        11\n",
       "...                        ...     ...       ...\n",
       "f5dd877a.wav   Acoustic_guitar  Public         5\n",
       "fa45b631.wav              Oboe  Public         7\n",
       "fb84a793.wav          Clarinet  Public         0\n",
       "fbc83b12.wav         Saxophone  Public         1\n",
       "ff5285a5.wav             Cello  Public        12\n",
       "\n",
       "[155 rows x 3 columns]"
      ]
     },
     "execution_count": 13,
     "metadata": {},
     "output_type": "execute_result"
    }
   ],
   "source": [
    "test_instrumental_classes_df"
   ]
  },
  {
   "cell_type": "code",
   "execution_count": 14,
   "id": "19bf90c9-22d3-483a-8cff-f7c0fd3a83a7",
   "metadata": {
    "execution": {
     "iopub.execute_input": "2024-09-19T15:55:57.123790Z",
     "iopub.status.busy": "2024-09-19T15:55:57.123601Z",
     "iopub.status.idle": "2024-09-19T15:55:58.664309Z",
     "shell.execute_reply": "2024-09-19T15:55:58.663839Z",
     "shell.execute_reply.started": "2024-09-19T15:55:57.123775Z"
    }
   },
   "outputs": [],
   "source": [
    "test_dataset = MFCCDataset(test_instrumental_classes_df, train=False)\n",
    "full_test_loader = DataLoader(dataset=test_dataset, batch_size=batch_size, shuffle=False, collate_fn=pad_batch)"
   ]
  },
  {
   "cell_type": "code",
   "execution_count": 15,
   "id": "b74358ca-6d44-4b6e-bd1d-e88c0612e440",
   "metadata": {
    "execution": {
     "iopub.execute_input": "2024-09-19T15:55:58.665214Z",
     "iopub.status.busy": "2024-09-19T15:55:58.664991Z",
     "iopub.status.idle": "2024-09-19T15:56:09.023520Z",
     "shell.execute_reply": "2024-09-19T15:56:09.022905Z",
     "shell.execute_reply.started": "2024-09-19T15:55:58.665198Z"
    }
   },
   "outputs": [
    {
     "name": "stdout",
     "output_type": "stream",
     "text": [
      "accuracy: 69.67742156982422%\n"
     ]
    }
   ],
   "source": [
    "accuracy = compute_accuracy(model, full_test_loader)\n",
    "print(f\"accuracy: {accuracy}%\")"
   ]
  },
  {
   "cell_type": "code",
   "execution_count": null,
   "id": "8c0ee058-d601-4686-8dd8-45eece13c239",
   "metadata": {},
   "outputs": [],
   "source": []
  }
 ],
 "metadata": {
  "kernelspec": {
   "display_name": "Python 3 (ipykernel)",
   "language": "python",
   "name": "python3"
  },
  "language_info": {
   "codemirror_mode": {
    "name": "ipython",
    "version": 3
   },
   "file_extension": ".py",
   "mimetype": "text/x-python",
   "name": "python",
   "nbconvert_exporter": "python",
   "pygments_lexer": "ipython3",
   "version": "3.10.12"
  }
 },
 "nbformat": 4,
 "nbformat_minor": 5
}
